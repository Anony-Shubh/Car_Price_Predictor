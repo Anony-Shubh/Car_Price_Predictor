{
 "cells": [
  {
   "cell_type": "code",
   "execution_count": 1,
   "id": "f6cafffc-e889-4aa6-b6eb-ca04a4d6ef59",
   "metadata": {},
   "outputs": [
    {
     "name": "stdout",
     "output_type": "stream",
     "text": [
      " * Serving Flask app '__main__'\n",
      " * Debug mode: off\n"
     ]
    },
    {
     "name": "stderr",
     "output_type": "stream",
     "text": [
      "WARNING: This is a development server. Do not use it in a production deployment. Use a production WSGI server instead.\n",
      " * Running on http://127.0.0.1:5000\n",
      "Press CTRL+C to quit\n"
     ]
    }
   ],
   "source": [
    "from flask import Flask,render_template,request,redirect\n",
    "from flask_cors import CORS,cross_origin\n",
    "import pickle\n",
    "import pandas as pd\n",
    "import numpy as np\n",
    "\n",
    "app=Flask(__name__)\n",
    "cors=CORS(app)\n",
    "model=pickle.load(open('LinearRegressionModel.pkl','rb'))\n",
    "car=pd.read_csv('Cleaned_Car_data.csv')\n",
    "\n",
    "@app.route('/',methods=['GET','POST'])\n",
    "def index():\n",
    "    companies=sorted(car['company'].unique())\n",
    "    car_models=sorted(car['name'].unique())\n",
    "    year=sorted(car['year'].unique(),reverse=True)\n",
    "    fuel_type=car['fuel_type'].unique()\n",
    "\n",
    "    companies.insert(0,'Select Company')\n",
    "    return render_template('index.html',companies=companies, car_models=car_models, years=year,fuel_types=fuel_type)\n",
    "\n",
    "\n",
    "@app.route('/predict',methods=['POST'])\n",
    "@cross_origin()\n",
    "def predict():\n",
    "\n",
    "    company=request.form.get('company')\n",
    "\n",
    "    car_model=request.form.get('car_models')\n",
    "    year=request.form.get('year')\n",
    "    fuel_type=request.form.get('fuel_type')\n",
    "    driven=request.form.get('kilo_driven')\n",
    "\n",
    "    prediction=model.predict(pd.DataFrame(columns=['name', 'company', 'year', 'kms_driven', 'fuel_type'],\n",
    "                              data=np.array([car_model,company,year,driven,fuel_type]).reshape(1, 5)))\n",
    "    print(prediction)\n",
    "\n",
    "    return str(np.round(prediction[0],2))\n",
    "\n",
    "\n",
    "\n",
    "if __name__=='__main__':\n",
    "    app.run()\n",
    "\n"
   ]
  },
  {
   "cell_type": "code",
   "execution_count": null,
   "id": "80b7dd0a-738a-406b-b97b-273cdeac24d9",
   "metadata": {},
   "outputs": [
    {
     "name": "stdout",
     "output_type": "stream",
     "text": [
      " * Serving Flask app '__main__'\n",
      " * Debug mode: off\n"
     ]
    },
    {
     "name": "stderr",
     "output_type": "stream",
     "text": [
      "WARNING: This is a development server. Do not use it in a production deployment. Use a production WSGI server instead.\n",
      " * Running on http://127.0.0.1:5000\n",
      "Press CTRL+C to quit\n",
      "127.0.0.1 - - [13/Apr/2024 15:56:13] \"GET / HTTP/1.1\" 200 -\n",
      "127.0.0.1 - - [13/Apr/2024 15:56:13] \"GET /static/css/style.css HTTP/1.1\" 304 -\n"
     ]
    }
   ],
   "source": [
    "from flask import Flask, render_template, request, send_from_directory\n",
    "from flask_cors import CORS, cross_origin\n",
    "import pickle\n",
    "import pandas as pd\n",
    "import numpy as np\n",
    "import matplotlib.pyplot as plt\n",
    "import os\n",
    "\n",
    "app = Flask(__name__)\n",
    "cors = CORS(app)\n",
    "model = pickle.load(open('LinearRegressionModel.pkl', 'rb'))\n",
    "car = pd.read_csv('Cleaned_Car_data.csv')\n",
    "\n",
    "@app.route('/', methods=['GET', 'POST'])\n",
    "def index():\n",
    "    companies = sorted(car['company'].unique())\n",
    "    car_models = sorted(car['name'].unique())\n",
    "    year = sorted(car['year'].unique(), reverse=True)\n",
    "    fuel_type = car['fuel_type'].unique()\n",
    "    companies.insert(0, 'Select Company')\n",
    "    return render_template('index.html', companies=companies, car_models=car_models, years=year, fuel_types=fuel_type)\n",
    "\n",
    "@app.route('/predict', methods=['POST'])\n",
    "@cross_origin()\n",
    "def predict():\n",
    "    company = request.form.get('company')\n",
    "    car_model = request.form.get('car_models')\n",
    "    year = request.form.get('year')\n",
    "    fuel_type = request.form.get('fuel_type')\n",
    "    driven = request.form.get('kilo_driven')\n",
    "    prediction = model.predict(pd.DataFrame(columns=['name', 'company', 'year', 'kms_driven', 'fuel_type'],\n",
    "                                            data=np.array([car_model, company, year, driven, fuel_type]).reshape(1, 5)))\n",
    "    print(prediction)\n",
    "    return str(np.round(prediction[0], 2))\n",
    "\n",
    "@app.route('/feature_importance')\n",
    "def feature_importance():\n",
    "    try:\n",
    "        if hasattr(model, 'coef_'):\n",
    "            importance = model.coef_\n",
    "        else:\n",
    "            importance = [0] * 5  # Fallback if no coef_\n",
    "\n",
    "        features = ['name', 'company', 'year', 'kms_driven', 'fuel_type']\n",
    "        plt.figure(figsize=(10, 5))\n",
    "        plt.bar(features, importance)\n",
    "        plt.title('Feature Importance')\n",
    "        plt.xticks(rotation=45)\n",
    "        plt.ylabel('Importance')\n",
    "        plt.tight_layout()\n",
    "\n",
    "        image_path = 'image/feature_importance.png'\n",
    "        plt.savefig(image_path)\n",
    "        plt.show()\n",
    "        plt.close()\n",
    "        print(\"Graph saved at:\", image_path)  # Debug statement\n",
    "        return send_from_directory('image', 'feature_importance.png')\n",
    "    except Exception as e:\n",
    "        print(\"Error:\", e)  # Print error message if something goes wrong\n",
    "        return str(e)\n",
    "\n",
    "if __name__ == '__main__':\n",
    "    app.run()\n",
    "\n"
   ]
  },
  {
   "cell_type": "code",
   "execution_count": null,
   "id": "a86620af-b138-46f8-9bad-f59101bc3484",
   "metadata": {},
   "outputs": [],
   "source": []
  }
 ],
 "metadata": {
  "kernelspec": {
   "display_name": "Python 3 (ipykernel)",
   "language": "python",
   "name": "python3"
  },
  "language_info": {
   "codemirror_mode": {
    "name": "ipython",
    "version": 3
   },
   "file_extension": ".py",
   "mimetype": "text/x-python",
   "name": "python",
   "nbconvert_exporter": "python",
   "pygments_lexer": "ipython3",
   "version": "3.11.7"
  }
 },
 "nbformat": 4,
 "nbformat_minor": 5
}
